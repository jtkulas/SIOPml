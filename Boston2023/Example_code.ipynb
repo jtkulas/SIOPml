{
 "cells": [
  {
   "cell_type": "code",
   "execution_count": 12,
   "id": "92a7228f",
   "metadata": {},
   "outputs": [],
   "source": [
    "import pandas as pd\n",
    "\n",
    "from sklearn.model_selection import train_test_split\n",
    "\n",
    "from sklearn.feature_extraction.text import CountVectorizer\n",
    "df=pd.read_csv(\"firstTry.csv\")\n",
    "y=round(df['criterion'])\n",
    "X_train, X_test, y_train, y_test= train_test_split(\n",
    "                                                df['predictor'], y,\n",
    "                                                test_size=0.33,\n",
    "                                                random_state=53)\n",
    "count_vectorizer = CountVectorizer(stop_words='english')\n",
    "count_train = count_vectorizer.fit_transform(X_train.values)\n",
    "count_test = count_vectorizer.transform(X_test.values)\n",
    "\n",
    "from sklearn.feature_extraction.text import TfidfVectorizer\n",
    "\n",
    "tfidf_vectorizer = TfidfVectorizer(stop_words='english', max_df=0.7)\n",
    "tfidf_train = tfidf_vectorizer.fit_transform(X_train)\n",
    "tfidf_test = tfidf_vectorizer.transform(X_test)"
   ]
  },
  {
   "cell_type": "code",
   "execution_count": 13,
   "id": "84071487",
   "metadata": {},
   "outputs": [
    {
     "data": {
      "text/plain": [
       "0.6198347107438017"
      ]
     },
     "execution_count": 13,
     "metadata": {},
     "output_type": "execute_result"
    }
   ],
   "source": [
    "from sklearn.naive_bayes import MultinomialNB\n",
    "from sklearn import metrics\n",
    "nb_classifier = MultinomialNB()\n",
    "\n",
    "nb_classifier.fit(count_train, y_train)\n",
    "pred = nb_classifier.predict(count_test)\n",
    "metrics.accuracy_score(y_test, pred)"
   ]
  },
  {
   "cell_type": "code",
   "execution_count": 15,
   "id": "cf1862eb",
   "metadata": {},
   "outputs": [
    {
     "data": {
      "text/plain": [
       "array([3., 3., 3., 3., 3., 2., 3., 3., 2., 3., 3., 3., 3., 2., 2., 3., 2.,\n",
       "       3., 3., 2., 3., 3., 2., 3., 3., 3., 3., 2., 3., 2., 3., 3., 3., 3.,\n",
       "       3., 2., 3., 3., 3., 3., 3., 3., 3., 3., 3., 3., 2., 3., 3., 2., 2.,\n",
       "       2., 3., 2., 2., 3., 3., 3., 3., 3., 3., 2., 3., 3., 3., 3., 3., 2.,\n",
       "       3., 3., 3., 3., 3., 3., 3., 3., 2., 2., 2., 3., 3., 3., 3., 3., 3.,\n",
       "       3., 3., 3., 2., 3., 3., 3., 3., 3., 3., 2., 2., 3., 3., 3., 3., 3.,\n",
       "       3., 2., 2., 3., 2., 3., 2., 3., 3., 2., 3., 3., 3., 2., 2., 3., 2.,\n",
       "       3., 2., 2., 3., 2., 3., 3., 3., 3., 3., 3., 2., 3., 2., 3., 3., 2.,\n",
       "       3., 3., 2., 3., 3., 3., 3., 3., 2., 3., 2., 2., 2., 3., 2., 3., 3.,\n",
       "       3., 3., 3., 3., 3., 3., 3., 2., 3., 3., 2., 3., 3., 3., 3., 3., 2.,\n",
       "       3., 3., 3., 3., 3., 2., 3., 2., 3., 2., 3., 2., 3., 3., 3., 3., 3.,\n",
       "       3., 2., 2., 2., 3., 3., 3., 2., 3., 3., 2., 2., 2., 3., 3., 3., 3.,\n",
       "       2., 3., 2., 2., 3., 3., 3., 3., 2., 3., 3., 3., 3., 2., 3., 2., 3.,\n",
       "       2., 3., 2., 3., 3., 3., 3., 3., 2., 3., 2., 3., 3., 3., 3., 2., 2.,\n",
       "       2., 2., 3., 3., 2., 2., 3., 3., 3., 2., 2., 3., 3., 3., 3., 3., 3.,\n",
       "       2., 3., 3., 3., 3., 3., 3., 2., 2., 3., 2., 3., 3., 3., 3., 3., 2.,\n",
       "       2., 3., 2., 3., 3., 3., 3., 3., 2., 3., 2., 3., 3., 3., 3., 3., 2.,\n",
       "       3., 2., 3., 3., 2., 3., 3., 3., 3., 3., 3., 3., 3., 3., 3., 3., 3.,\n",
       "       3., 3., 3., 3., 3., 3., 3., 3., 3., 3., 3., 3., 3., 2., 3., 3., 3.,\n",
       "       3., 3., 3., 3., 3., 3., 3., 2., 3., 2., 3., 3., 3., 3., 3., 3., 3.,\n",
       "       3., 3., 3., 2., 3., 2., 2., 3., 3., 3., 3., 3., 2., 3., 3., 2., 3.,\n",
       "       3., 3., 2., 3., 2., 2., 2., 3., 2., 2., 3., 3., 3., 3., 3., 3., 2.,\n",
       "       3., 3., 2., 2., 3., 2., 3., 3., 3., 3., 2., 3., 3., 2., 3., 2., 3.,\n",
       "       3., 3., 2., 3., 3., 2., 3., 3., 3., 3., 3., 3., 3., 3., 3., 3., 3.,\n",
       "       3., 2., 3., 3., 2., 3., 2., 3., 3., 3., 3., 3., 3., 2., 3., 3., 3.,\n",
       "       3., 2., 3., 3., 3., 3., 3., 2., 3., 2., 3., 3., 3., 2., 3., 3., 2.,\n",
       "       3., 3., 3., 3., 3., 3., 3., 2., 3., 3., 3., 2., 3., 3., 3., 3., 4.,\n",
       "       3., 3., 3., 3., 3., 3., 3., 3., 3., 3., 3., 2., 3., 3., 3., 3., 3.,\n",
       "       3., 3., 3., 3., 3., 3., 2., 3.])"
      ]
     },
     "execution_count": 15,
     "metadata": {},
     "output_type": "execute_result"
    }
   ],
   "source": [
    "pred"
   ]
  },
  {
   "cell_type": "code",
   "execution_count": null,
   "id": "d7298315",
   "metadata": {},
   "outputs": [],
   "source": []
  }
 ],
 "metadata": {
  "kernelspec": {
   "display_name": "Python 3 (ipykernel)",
   "language": "python",
   "name": "python3"
  },
  "language_info": {
   "codemirror_mode": {
    "name": "ipython",
    "version": 3
   },
   "file_extension": ".py",
   "mimetype": "text/x-python",
   "name": "python",
   "nbconvert_exporter": "python",
   "pygments_lexer": "ipython3",
   "version": "3.8.8"
  }
 },
 "nbformat": 4,
 "nbformat_minor": 5
}
